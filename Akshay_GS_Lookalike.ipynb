{
 "cells": [
  {
   "cell_type": "code",
   "execution_count": 9,
   "id": "918ba7a2-e93c-49ce-8ed8-fcf78c13578b",
   "metadata": {},
   "outputs": [
    {
     "name": "stdout",
     "output_type": "stream",
     "text": [
      "Lookalike recommendations have been saved to 'Akshay_GS_Lookalike.csv'.\n"
     ]
    }
   ],
   "source": [
    "import pandas as pd\n",
    "import numpy as np\n",
    "from sklearn.metrics.pairwise import cosine_similarity\n",
    "from sklearn.preprocessing import StandardScaler\n",
    "\n",
    "# Step 1: Load the Data\n",
    "customers = pd.read_csv(\"C:/Users/Akshay G S/OneDrive/Desktop/Uvce Documents/Zeotap/Customers.csv\")\n",
    "products = pd.read_csv(\"C:/Users/Akshay G S/OneDrive/Desktop/Uvce Documents/Zeotap/Products.csv\")\n",
    "transactions = pd.read_csv(\"C:/Users/Akshay G S/OneDrive/Desktop/Uvce Documents/Zeotap/Transactions.csv\")\n",
    "\n",
    "# Step 2: Merge the datasets\n",
    "customer_transactions = transactions.merge(customers, on='CustomerID')\n",
    "customer_transactions = customer_transactions.merge(products, on='ProductID')\n",
    "\n",
    "# Step 3: Feature Engineering\n",
    "features = customer_transactions.groupby('CustomerID').agg({\n",
    "    'TotalValue': 'sum',\n",
    "    'Quantity': 'sum',\n",
    "    'Region': 'first',  # You can encode this later\n",
    "    'ProductID': lambda x: x.nunique()  # Number of unique products purchased\n",
    "}).reset_index()\n",
    "\n",
    "# Encode categorical variables (e.g., Region)\n",
    "features = pd.get_dummies(features, columns=['Region'], drop_first=True)\n",
    "\n",
    "# Step 4: Standardization\n",
    "scaler = StandardScaler()\n",
    "scaled_features = scaler.fit_transform(features.drop(columns=['CustomerID']))\n",
    "\n",
    "# Step 5: Calculate Similarity\n",
    "similarity_matrix = cosine_similarity(scaled_features)\n",
    "\n",
    "# Step 6: Generate Lookalike Recommendations\n",
    "lookalike_results = {}\n",
    "\n",
    "# Get the top 3 lookalikes for the first 20 customers\n",
    "for i in range(20):  # For CustomerID C0001 to C0020\n",
    "    similar_indices = np.argsort(similarity_matrix[i])[::-1][1:4]  # Get top 3 similar customers\n",
    "    similar_customers = features.iloc[similar_indices]['CustomerID'].tolist()\n",
    "    scores = similarity_matrix[i][similar_indices].tolist()\n",
    "    lookalike_results[features.iloc[i]['CustomerID']] = list(zip(similar_customers, scores))\n",
    "\n",
    "# Convert to DataFrame for easier saving\n",
    "# Flatten the results into a list of dictionaries\n",
    "flattened_results = []\n",
    "for customer_id, similar_info in lookalike_results.items():\n",
    "    for similar_customer_id, score in similar_info:\n",
    "        flattened_results.append({\n",
    "            'CustomerID': customer_id,\n",
    "            'SimilarCustomerID': similar_customer_id,\n",
    "            'Score': score\n",
    "        })\n",
    "\n",
    "# Create DataFrame from flattened results\n",
    "lookalike_df = pd.DataFrame(flattened_results)\n",
    "\n",
    "# Step 7: Save the Results\n",
    "lookalike_df.to_csv('Akshay_GS_Lookalike.csv', index=False)\n",
    "\n",
    "print(\"Lookalike recommendations have been saved to 'Akshay_GS_Lookalike.csv'.\")"
   ]
  },
  {
   "cell_type": "code",
   "execution_count": null,
   "id": "4a7fee37-a6b7-4fd6-a8ed-2a16990e371a",
   "metadata": {},
   "outputs": [],
   "source": []
  }
 ],
 "metadata": {
  "kernelspec": {
   "display_name": "Python 3 (ipykernel)",
   "language": "python",
   "name": "python3"
  },
  "language_info": {
   "codemirror_mode": {
    "name": "ipython",
    "version": 3
   },
   "file_extension": ".py",
   "mimetype": "text/x-python",
   "name": "python",
   "nbconvert_exporter": "python",
   "pygments_lexer": "ipython3",
   "version": "3.12.4"
  }
 },
 "nbformat": 4,
 "nbformat_minor": 5
}
